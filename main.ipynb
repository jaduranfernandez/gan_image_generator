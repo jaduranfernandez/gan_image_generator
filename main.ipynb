{
 "cells": [
  {
   "cell_type": "markdown",
   "metadata": {},
   "source": []
  },
  {
   "cell_type": "code",
   "execution_count": 1,
   "metadata": {},
   "outputs": [],
   "source": [
    "import matplotlib.pyplot as plt \n",
    "import numpy as np"
   ]
  },
  {
   "cell_type": "markdown",
   "metadata": {},
   "source": [
    "# Create data for training"
   ]
  },
  {
   "cell_type": "code",
   "execution_count": 2,
   "metadata": {},
   "outputs": [],
   "source": [
    "from typing import List\n",
    "import math\n",
    "\n",
    "\n",
    "def create_binary_list_from_int(number: int) -> List[int]:\n",
    "    if number < 0 or type(number) is not int:\n",
    "        raise ValueError(\"Only Positive integers are allowed\")\n",
    "\n",
    "    return [int(x) for x in list(bin(number))[2:]]\n",
    "\n",
    "\n",
    "max_value = 200\n",
    "n_samples = 50000\n",
    "\n",
    "input_length = int(math.log(max_value, 2)) + 1\n",
    "sampled_integers = np.random.randint(0, int(max_value / 2), n_samples)\n",
    "\n",
    "# Generate a list of binary numbers for training.\n",
    "data = [create_binary_list_from_int(int(x * 2)) for x in sampled_integers]\n",
    "\n",
    "data = [([0] * (input_length - len(x))) + x for x in data]\n",
    "\n",
    "data = np.array(data)"
   ]
  },
  {
   "cell_type": "markdown",
   "metadata": {},
   "source": [
    "# Define Discriminator & Generator"
   ]
  },
  {
   "cell_type": "markdown",
   "metadata": {},
   "source": [
    "## Layer's Architecture"
   ]
  },
  {
   "cell_type": "code",
   "execution_count": 2,
   "metadata": {},
   "outputs": [],
   "source": [
    "import torch\n",
    "import torch.nn as nn\n",
    "\n",
    "\n",
    "class Generator(nn.Module):\n",
    "    def __init__(self, input_length: int):\n",
    "        super(Generator, self).__init__()\n",
    "        self.dense_layer = nn.Linear(int(input_length), int(input_length))\n",
    "        self.activation = nn.Sigmoid()\n",
    "\n",
    "    def forward(self, x):\n",
    "        return self.activation(self.dense_layer(x))\n",
    "\n",
    "\n",
    "class Discriminator(nn.Module):\n",
    "    def __init__(self, input_length: int):\n",
    "        super(Discriminator, self).__init__()\n",
    "        self.dense = nn.Linear(int(input_length), 1);\n",
    "        self.activation = nn.Sigmoid()\n",
    "\n",
    "    def forward(self, x):\n",
    "        return self.activation(self.dense(x))\n",
    "    "
   ]
  },
  {
   "cell_type": "markdown",
   "metadata": {},
   "source": [
    "## Optimizers and loss functions"
   ]
  },
  {
   "cell_type": "code",
   "execution_count": 4,
   "metadata": {},
   "outputs": [],
   "source": [
    "generator = Generator(input_length)\n",
    "discriminator = Discriminator(input_length)\n",
    "loss = nn.BCELoss()\n",
    "generator_optimizer = torch.optim.Adam(generator.parameters(), lr=0.001)\n",
    "\n",
    "discriminator_optimizer = torch.optim.Adam(discriminator.parameters(), lr=0.001)"
   ]
  },
  {
   "cell_type": "markdown",
   "metadata": {},
   "source": [
    "# Train GAN"
   ]
  },
  {
   "cell_type": "code",
   "execution_count": 5,
   "metadata": {},
   "outputs": [],
   "source": [
    "from trainers.general_trainer import Trainer\n",
    "\n",
    "trainer = Trainer(generator, discriminator, loss, loss, generator_optimizer, discriminator_optimizer)\n",
    "trainer.train_general(data, input_length, 16, 1000)"
   ]
  },
  {
   "cell_type": "code",
   "execution_count": 6,
   "metadata": {},
   "outputs": [
    {
     "name": "stdout",
     "output_type": "stream",
     "text": [
      "[42  0  0  8  0 42 40 42  8  0]\n"
     ]
    }
   ],
   "source": [
    "noise = torch.randint(0, 2, size=(10, input_length)).float()\n",
    "#print(noise)\n",
    "fake_data = trainer.generator(noise)\n",
    "\n",
    "\n",
    "data = fake_data[0]\n",
    "boolean_tensor = (fake_data>0.5).to(torch.int)\n",
    "valor_entero = np.packbits(boolean_tensor)\n",
    "print(valor_entero)"
   ]
  },
  {
   "cell_type": "code",
   "execution_count": 7,
   "metadata": {},
   "outputs": [
    {
     "name": "stdout",
     "output_type": "stream",
     "text": [
      "torch.Size([16, 3, 128, 128])\n"
     ]
    }
   ],
   "source": [
    "batch_size = 16\n",
    "image_height = 128\n",
    "image_width = 128\n",
    "num_channels = 3\n",
    "\n",
    "# Generate random input data\n",
    "random_input = torch.randn(batch_size, num_channels, image_height, image_width)\n",
    "\n",
    "# Print the shape of the random input data\n",
    "print(random_input.shape)\n"
   ]
  },
  {
   "cell_type": "code",
   "execution_count": 23,
   "metadata": {},
   "outputs": [
    {
     "data": {
      "text/plain": [
       "tensor([[0.5759],\n",
       "        [0.3627],\n",
       "        [0.3682],\n",
       "        [0.4661],\n",
       "        [0.4767],\n",
       "        [0.2995],\n",
       "        [0.4775],\n",
       "        [0.4043],\n",
       "        [0.4585],\n",
       "        [0.4238],\n",
       "        [0.4928],\n",
       "        [0.5851],\n",
       "        [0.4684],\n",
       "        [0.3105],\n",
       "        [0.4709],\n",
       "        [0.4389]], grad_fn=<SigmoidBackward0>)"
      ]
     },
     "execution_count": 23,
     "metadata": {},
     "output_type": "execute_result"
    }
   ],
   "source": [
    "class SimpleDiscriminator(nn.Module):\n",
    "    def __init__(self):\n",
    "        super(SimpleDiscriminator, self).__init__()\n",
    "        self.features = nn.Sequential(\n",
    "            nn.Conv2d(3, 64, kernel_size=5, stride=2, padding=2), # 64x64x64\n",
    "            nn.LeakyReLU(negative_slope=0.2),\n",
    "\n",
    "            nn.Conv2d(64, 128, kernel_size=5, stride=2, padding=2), # 32x32x128\n",
    "            nn.BatchNorm2d(num_features=128, momentum=0.3),\n",
    "            nn.LeakyReLU(negative_slope=0.2),\n",
    "            \n",
    "            nn.Conv2d(128, 256, kernel_size=5, stride=2, padding=2), # 16x16x256\n",
    "            nn.BatchNorm2d(num_features=256, momentum=0.3),\n",
    "            nn.LeakyReLU(negative_slope=0.2),\n",
    "\n",
    "            nn.Conv2d(256, 512, kernel_size=5, stride=2, padding=2), # 8x8x512\n",
    "            nn.BatchNorm2d(num_features=512, momentum=0.3),\n",
    "            nn.LeakyReLU(negative_slope=0.2),\n",
    "            \n",
    "            nn.Conv2d(512, 1024, kernel_size=5, stride=2, padding=2), # 4x4x1024\n",
    "            nn.BatchNorm2d(num_features=1024, momentum=0.3),\n",
    "            nn.LeakyReLU(negative_slope=0.2),\n",
    "        \n",
    "        )\n",
    "        self.classifier = nn.Sequential(\n",
    "            nn.Linear(4*4*1024, 1),            \n",
    "            nn.Sigmoid()\n",
    "        )\n",
    "\n",
    "    def forward(self, x):\n",
    "        x = self.features(x)\n",
    "        x = x.view(-1, 4*4*1024)\n",
    "        x = self.classifier(x)\n",
    "        return x\n",
    "\n",
    "model = SimpleDiscriminator()\n",
    "model(random_input)\n"
   ]
  },
  {
   "cell_type": "code",
   "execution_count": null,
   "metadata": {},
   "outputs": [],
   "source": [
    "\n",
    "# class SimpleGenerator(nn.Module):\n",
    "#     def __init__(self):\n",
    "#         super(SimpleGenerator, self).__init__()\n",
    "#         self.features = nn.Sequential(\n",
    "#             nn.Linear(100, 1024*4*4),\n",
    "#             nn.BatchNorm1d(1024*4*4),\n",
    "#             nn.LeakyReLU(negative_slope=0.2),\n",
    "#             nn.resha\n",
    "#         )\n",
    "\n",
    "\n",
    "def build_generator():\n",
    "    model = Sequential()\n",
    "    model.add(layers.Dense(1024*4*4, input_shape=(100,)))\n",
    "    model.add(layers.BatchNormalization(momentum=0.3))\n",
    "    model.add(layers.LeakyReLU(alpha=0.2))\n",
    "    model.add(layers.Reshape((4,4,1024))) # 4x4x1024\n",
    "\n",
    "    model.add(layers.Conv2DTranspose(512,(5,5), strides=(2,2), padding='same')) # 8x8x512\n",
    "    model.add(layers.BatchNormalization(momentum=0.3))\n",
    "    model.add(layers.LeakyReLU(alpha=0.2))\n",
    "    \n",
    "    model.add(layers.Conv2DTranspose(256,(5,5), strides=(2,2), padding='same')) # 16x16x256\n",
    "    model.add(layers.BatchNormalization(momentum=0.3))\n",
    "    model.add(layers.LeakyReLU(alpha=0.2))\n",
    "    \n",
    "    model.add(layers.Conv2DTranspose(128,(5,5), strides=(2,2), padding='same')) # 32x32x128\n",
    "    model.add(layers.BatchNormalization(momentum=0.3))\n",
    "    model.add(layers.LeakyReLU(alpha=0.2))\n",
    "    \n",
    "    model.add(layers.Conv2DTranspose(64,(5,5), strides=(2,2), padding='same')) # 64x64x64\n",
    "    model.add(layers.BatchNormalization(momentum=0.3))\n",
    "    model.add(layers.LeakyReLU(alpha=0.2))\n",
    "    \n",
    "    model.add(layers.Conv2DTranspose(3,(5,5), strides=(2,2), padding='same')) # 128x128x3 --> desired output\n",
    "    model.add(layers.Activation(\"tanh\"))\n",
    "    adam = optimizers.Adam(learning_rate=0.001, beta_1=0.5)\n",
    "    model.compile(optimizer=adam, loss=\"binary_crossentropy\")\n",
    "    return model"
   ]
  },
  {
   "cell_type": "code",
   "execution_count": 10,
   "metadata": {},
   "outputs": [
    {
     "name": "stdout",
     "output_type": "stream",
     "text": [
      "torch.Size([16, 128, 32, 32])\n"
     ]
    },
    {
     "data": {
      "text/plain": [
       "tensor([[-0.0240],\n",
       "        [-0.0417],\n",
       "        [-0.0161],\n",
       "        [-0.0611],\n",
       "        [ 0.0253],\n",
       "        [-0.0455],\n",
       "        [-0.0470],\n",
       "        [-0.0672],\n",
       "        [-0.0669],\n",
       "        [-0.0577],\n",
       "        [-0.0032],\n",
       "        [-0.0449],\n",
       "        [-0.0021],\n",
       "        [-0.0019],\n",
       "        [-0.0376],\n",
       "        [-0.0169]], grad_fn=<AddmmBackward0>)"
      ]
     },
     "execution_count": 10,
     "metadata": {},
     "output_type": "execute_result"
    }
   ],
   "source": [
    "class SimpleRegressionModel(nn.Module):\n",
    "    def __init__(self):\n",
    "        super(SimpleRegressionModel, self).__init__()\n",
    "        self.features = nn.Sequential(\n",
    "            nn.Conv2d(3, 64, kernel_size=3, stride=1, padding=1),\n",
    "            nn.ReLU(inplace=True),\n",
    "            nn.MaxPool2d(kernel_size=2, stride=2),\n",
    "            nn.Conv2d(64, 128, kernel_size=3, stride=1, padding=1),\n",
    "            nn.ReLU(inplace=True),\n",
    "            nn.MaxPool2d(kernel_size=2, stride=2)\n",
    "        )\n",
    "        self.fc = nn.Sequential(\n",
    "            nn.Linear(128 * 32 * 32, 256),  # Adjust input size based on your image dimensions\n",
    "            nn.ReLU(inplace=True),\n",
    "            nn.Linear(256, 1)  # Output layer with one value\n",
    "        )\n",
    "\n",
    "    def forward(self, x):\n",
    "        x = self.features(x)\n",
    "        print(x.shape)\n",
    "        x = x.view(x.size(0), -1)  # Flatten the tensor\n",
    "        x = self.fc(x)\n",
    "        return x\n",
    "\n",
    "# Create an instance of the model\n",
    "model = SimpleRegressionModel()\n",
    "\n",
    "\n",
    "model(random_input)"
   ]
  }
 ],
 "metadata": {
  "kernelspec": {
   "display_name": "Python 3",
   "language": "python",
   "name": "python3"
  },
  "language_info": {
   "codemirror_mode": {
    "name": "ipython",
    "version": 3
   },
   "file_extension": ".py",
   "mimetype": "text/x-python",
   "name": "python",
   "nbconvert_exporter": "python",
   "pygments_lexer": "ipython3",
   "version": "3.11.5"
  },
  "orig_nbformat": 4
 },
 "nbformat": 4,
 "nbformat_minor": 2
}
