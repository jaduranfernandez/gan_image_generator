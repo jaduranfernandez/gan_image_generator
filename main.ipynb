{
 "cells": [
  {
   "cell_type": "markdown",
   "metadata": {},
   "source": []
  },
  {
   "cell_type": "code",
   "execution_count": 47,
   "metadata": {},
   "outputs": [],
   "source": [
    "import matplotlib.pyplot as plt \n",
    "import numpy as np"
   ]
  },
  {
   "cell_type": "markdown",
   "metadata": {},
   "source": [
    "# Create data for training"
   ]
  },
  {
   "cell_type": "code",
   "execution_count": 64,
   "metadata": {},
   "outputs": [],
   "source": [
    "from typing import List\n",
    "import math\n",
    "\n",
    "\n",
    "def create_binary_list_from_int(number: int) -> List[int]:\n",
    "    if number < 0 or type(number) is not int:\n",
    "        raise ValueError(\"Only Positive integers are allowed\")\n",
    "\n",
    "    return [int(x) for x in list(bin(number))[2:]]\n",
    "\n",
    "\n",
    "max_value = 200\n",
    "n_samples = 50000\n",
    "\n",
    "input_length = int(math.log(max_value, 2)) + 1\n",
    "sampled_integers = np.random.randint(0, int(max_value / 2), n_samples)\n",
    "\n",
    "# Generate a list of binary numbers for training.\n",
    "data = [create_binary_list_from_int(int(x * 2)) for x in sampled_integers]\n",
    "\n",
    "data = [([0] * (input_length - len(x))) + x for x in data]\n",
    "\n",
    "data = np.array(data)"
   ]
  },
  {
   "cell_type": "markdown",
   "metadata": {},
   "source": [
    "# Define Discriminator & Generator"
   ]
  },
  {
   "cell_type": "markdown",
   "metadata": {},
   "source": [
    "## Layer's Architecture"
   ]
  },
  {
   "cell_type": "code",
   "execution_count": 49,
   "metadata": {},
   "outputs": [],
   "source": [
    "import torch\n",
    "import torch.nn as nn\n",
    "\n",
    "\n",
    "class Generator(nn.Module):\n",
    "    def __init__(self, input_length: int):\n",
    "        super(Generator, self).__init__()\n",
    "        self.dense_layer = nn.Linear(int(input_length), int(input_length))\n",
    "        self.activation = nn.Sigmoid()\n",
    "\n",
    "    def forward(self, x):\n",
    "        return self.activation(self.dense_layer(x))\n",
    "\n",
    "\n",
    "class Discriminator(nn.Module):\n",
    "    def __init__(self, input_length: int):\n",
    "        super(Discriminator, self).__init__()\n",
    "        self.dense = nn.Linear(int(input_length), 1);\n",
    "        self.activation = nn.Sigmoid()\n",
    "\n",
    "    def forward(self, x):\n",
    "        return self.activation(self.dense(x))\n",
    "    "
   ]
  },
  {
   "cell_type": "markdown",
   "metadata": {},
   "source": [
    "## Optimizers and loss functions"
   ]
  },
  {
   "cell_type": "code",
   "execution_count": 65,
   "metadata": {},
   "outputs": [],
   "source": [
    "generator = Generator(input_length)\n",
    "discriminator = Discriminator(input_length)\n",
    "loss = nn.BCELoss()\n",
    "generator_optimizer = torch.optim.Adam(generator.parameters(), lr=0.001)\n",
    "discriminator_optimizer = torch.optim.Adam(discriminator.parameters(), lr=0.001)"
   ]
  },
  {
   "cell_type": "markdown",
   "metadata": {},
   "source": [
    "# Train GAN"
   ]
  },
  {
   "cell_type": "code",
   "execution_count": 66,
   "metadata": {},
   "outputs": [],
   "source": [
    "from trainers.general_trainer import Trainer\n",
    "\n",
    "trainer = Trainer(generator, discriminator, loss, loss, generator_optimizer, discriminator_optimizer)\n",
    "trainer.train_general(data, input_length, 16, 1000)\n",
    "\n"
   ]
  },
  {
   "cell_type": "code",
   "execution_count": 71,
   "metadata": {},
   "outputs": [
    {
     "name": "stdout",
     "output_type": "stream",
     "text": [
      "tensor([[0., 1., 0., 0., 1., 0., 0., 1.],\n",
      "        [1., 1., 0., 0., 1., 0., 1., 1.],\n",
      "        [0., 1., 1., 1., 1., 1., 0., 1.],\n",
      "        [1., 1., 1., 0., 0., 0., 1., 0.],\n",
      "        [0., 0., 0., 0., 0., 1., 1., 0.],\n",
      "        [1., 0., 0., 1., 0., 0., 0., 1.],\n",
      "        [0., 1., 1., 0., 1., 1., 1., 1.],\n",
      "        [1., 1., 1., 1., 1., 1., 0., 1.],\n",
      "        [1., 0., 0., 0., 0., 0., 0., 1.],\n",
      "        [1., 1., 0., 1., 0., 1., 0., 1.]])\n",
      "[ 22  26  18  18 146  18  18  18  18  18]\n"
     ]
    }
   ],
   "source": [
    "noise = torch.randint(0, 2, size=(10, input_length)).float()\n",
    "print(noise)\n",
    "fake_data = trainer.generator(noise)\n",
    "\n",
    "\n",
    "data = fake_data[0]\n",
    "boolean_tensor = (fake_data>0.5).to(torch.int)\n",
    "valor_entero = np.packbits(boolean_tensor)\n",
    "print(valor_entero)"
   ]
  },
  {
   "cell_type": "code",
   "execution_count": 53,
   "metadata": {},
   "outputs": [
    {
     "name": "stdout",
     "output_type": "stream",
     "text": [
      "tensor([False, False, False,  True,  True,  True, False, False])\n",
      "28\n"
     ]
    }
   ],
   "source": [
    "boolean_tensor = data>0.5\n",
    "boolean_tensor.to(torch.int)\n",
    "print(boolean_tensor)\n",
    "valor_entero = np.packbits(boolean_tensor)\n",
    "\n",
    "print(valor_entero.item())"
   ]
  }
 ],
 "metadata": {
  "kernelspec": {
   "display_name": "Python 3",
   "language": "python",
   "name": "python3"
  },
  "language_info": {
   "codemirror_mode": {
    "name": "ipython",
    "version": 3
   },
   "file_extension": ".py",
   "mimetype": "text/x-python",
   "name": "python",
   "nbconvert_exporter": "python",
   "pygments_lexer": "ipython3",
   "version": "3.11.5"
  },
  "orig_nbformat": 4
 },
 "nbformat": 4,
 "nbformat_minor": 2
}
